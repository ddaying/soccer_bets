{
  "nbformat": 4,
  "nbformat_minor": 0,
  "metadata": {
    "colab": {
      "name": "BettingBot.ipynb",
      "provenance": [],
      "toc_visible": true
    },
    "kernelspec": {
      "name": "python3",
      "display_name": "Python 3"
    }
  },
  "cells": [
    {
      "cell_type": "markdown",
      "metadata": {
        "id": "HMtzKKVvD-W3",
        "colab_type": "text"
      },
      "source": [
        "# Betting Bot\n",
        "\n",
        "Making a function to run over predicitons and calculate wins/losses"
      ]
    },
    {
      "cell_type": "markdown",
      "metadata": {
        "id": "C0fqWnoXKuUL",
        "colab_type": "text"
      },
      "source": [
        "## Setup"
      ]
    },
    {
      "cell_type": "code",
      "metadata": {
        "id": "jGePBPlGhcMk",
        "colab_type": "code",
        "colab": {}
      },
      "source": [
        "!git clone https://github.com/guggio/soccer_bets.git"
      ],
      "execution_count": null,
      "outputs": []
    },
    {
      "cell_type": "markdown",
      "metadata": {
        "id": "RqiizoWJelnD",
        "colab_type": "text"
      },
      "source": [
        "### Imports"
      ]
    },
    {
      "cell_type": "code",
      "metadata": {
        "id": "tWKarJwOeid_",
        "colab_type": "code",
        "colab": {}
      },
      "source": [
        "import pandas as pd\n",
        "from tensorflow.keras.models import Sequential\n",
        "from tensorflow.keras.layers import LSTM, Embedding, Dropout, Dense\n",
        "from sklearn.preprocessing import RobustScaler"
      ],
      "execution_count": 2,
      "outputs": []
    },
    {
      "cell_type": "code",
      "metadata": {
        "id": "zJ9D_8VliYW0",
        "colab_type": "code",
        "colab": {}
      },
      "source": [
        "import seaborn as sns\n",
        "from pylab import rcParams\n",
        "import matplotlib\n",
        "import matplotlib.pyplot as plt\n",
        "from matplotlib import rc\n",
        "from  matplotlib.ticker import FuncFormatter\n",
        "\n",
        "%matplotlib inline\n",
        "%config InlineBackend.figure_format='retina'\n",
        "\n",
        "sns.set(style='whitegrid', palette='muted', font_scale=1.5)\n",
        "\n",
        "rcParams['figure.figsize'] = 22, 10"
      ],
      "execution_count": null,
      "outputs": []
    },
    {
      "cell_type": "code",
      "metadata": {
        "id": "0Ym5-lDze1VN",
        "colab_type": "code",
        "colab": {}
      },
      "source": [
        "# trying to make it reproducible according to https://keras.io/getting_started/faq/#how-can-i-obtain-reproducible-results-using-keras-during-development. \n",
        "# Unfortunately does not work when the runtime is reset.\n",
        "\n",
        "import numpy as np\n",
        "import tensorflow as tf\n",
        "import random as python_random\n",
        "import os\n",
        "\n",
        "# The below is necessary for starting Numpy generated random numbers\n",
        "# in a well-defined initial state.\n",
        "np.random.seed(42)\n",
        "\n",
        "# The below is necessary for starting core Python generated random numbers\n",
        "# in a well-defined state.\n",
        "python_random.seed(42)\n",
        "\n",
        "# The below set_seed() will make random number generation\n",
        "# in the TensorFlow backend have a well-defined initial state.\n",
        "# For further details, see:\n",
        "# https://www.tensorflow.org/api_docs/python/tf/random/set_seed\n",
        "tf.random.set_seed(42)"
      ],
      "execution_count": 3,
      "outputs": []
    },
    {
      "cell_type": "markdown",
      "metadata": {
        "id": "3icTNCqye2Bl",
        "colab_type": "text"
      },
      "source": [
        "## Loading the data"
      ]
    },
    {
      "cell_type": "code",
      "metadata": {
        "colab_type": "code",
        "id": "lZbL5NcSh5bl",
        "colab": {}
      },
      "source": [
        "dataset_18_19 = 'soccer_bets/data/Bundesliga_18_19_complete_B365.csv'"
      ],
      "execution_count": 4,
      "outputs": []
    },
    {
      "cell_type": "code",
      "metadata": {
        "id": "tZXcH3mBfH29",
        "colab_type": "code",
        "colab": {}
      },
      "source": [
        "data = pd.read_csv(dataset_18_19)"
      ],
      "execution_count": 5,
      "outputs": []
    },
    {
      "cell_type": "code",
      "metadata": {
        "id": "KkEvbY9pRlJc",
        "colab_type": "code",
        "colab": {}
      },
      "source": [
        "data.head()"
      ],
      "execution_count": null,
      "outputs": []
    },
    {
      "cell_type": "code",
      "metadata": {
        "id": "7VCISTHlfbGn",
        "colab_type": "code",
        "colab": {}
      },
      "source": [
        "data['Score'] = data['FTHG'] - data['FTAG']"
      ],
      "execution_count": 7,
      "outputs": []
    },
    {
      "cell_type": "code",
      "metadata": {
        "id": "gV-cVB0ShznY",
        "colab_type": "code",
        "colab": {}
      },
      "source": [
        "data['Round'] = np.zeros((len(data),1))\n",
        "\n",
        "int_round = 1\n",
        "for row in range(1,len(data)+1):\n",
        "  data['Round'][row-1] = int_round\n",
        "  if (row % 9) == 0:\n",
        "    int_round += 1\n"
      ],
      "execution_count": null,
      "outputs": []
    },
    {
      "cell_type": "markdown",
      "metadata": {
        "id": "DOR-bbY5kTdN",
        "colab_type": "text"
      },
      "source": [
        "## Formatting the data"
      ]
    },
    {
      "cell_type": "code",
      "metadata": {
        "id": "9KCNHItLkVon",
        "colab_type": "code",
        "colab": {}
      },
      "source": [
        "# Team dictionary\n",
        "teams = list(set(data['HomeTeam'].values))\n",
        "n_teams = len(teams)\n",
        "teamToIdx = {t: i for i, t in enumerate(teams)}\n",
        "homeId = [teamToIdx[id] for id in list(data['HomeTeam'].values)]\n",
        "data['Home_Id'] = homeId\n",
        "awayId = [teamToIdx[id] for id in list(data['AwayTeam'].values)]\n",
        "data['Away_Id'] = awayId"
      ],
      "execution_count": 9,
      "outputs": []
    },
    {
      "cell_type": "code",
      "metadata": {
        "id": "0XUmCkU2-V9S",
        "colab_type": "code",
        "colab": {}
      },
      "source": [
        "score_transformer = RobustScaler()\n",
        "\n",
        "score_transformer = score_transformer.fit(data[['Score']])\n",
        "\n",
        "data['Score'] = score_transformer.transform(data[['Score']])"
      ],
      "execution_count": 10,
      "outputs": []
    },
    {
      "cell_type": "code",
      "metadata": {
        "id": "brPeSjy-k2cn",
        "colab_type": "code",
        "colab": {}
      },
      "source": [
        "data_considered = ['Round','Home_Id', 'Away_Id', 'Score', 'FTR', 'B365H',\t'B365D',\t'B365A'\t]"
      ],
      "execution_count": 11,
      "outputs": []
    },
    {
      "cell_type": "code",
      "metadata": {
        "id": "DVSFIwmDmsiq",
        "colab_type": "code",
        "colab": {}
      },
      "source": [
        "used_data = data[data_considered]\n",
        "used_data.head()"
      ],
      "execution_count": null,
      "outputs": []
    },
    {
      "cell_type": "markdown",
      "metadata": {
        "id": "GFVv7WGVUxQH",
        "colab_type": "text"
      },
      "source": [
        "## First Modeling and Evaluation\n",
        "Let's build a LSTM, train it on the first five rounds and determine the required training epochs for the real model afterwards."
      ]
    },
    {
      "cell_type": "code",
      "metadata": {
        "id": "wrtmXWEPwE1k",
        "colab_type": "code",
        "colab": {}
      },
      "source": [
        "def create_dataset(X, y):\n",
        "    Xs, ys = [], []\n",
        "    for i in range(len(X)):\n",
        "        v = X.iloc[i].values\n",
        "        Xs.append(v)\n",
        "        ys.append(y.iloc[i])     \n",
        "    return np.array(Xs), np.array(ys)"
      ],
      "execution_count": 13,
      "outputs": []
    },
    {
      "cell_type": "code",
      "metadata": {
        "id": "CANXQlBiYD1b",
        "colab_type": "code",
        "colab": {}
      },
      "source": [
        "train_set = data[data['Round'] < 6]\n",
        "X_train, y_train = create_dataset(train_set[['Home_Id', 'Away_Id']], train_set.Score)"
      ],
      "execution_count": 14,
      "outputs": []
    },
    {
      "cell_type": "code",
      "metadata": {
        "id": "z9d7CNdNX0ao",
        "colab_type": "code",
        "colab": {}
      },
      "source": [
        "model = Sequential()\n",
        "model.add(Embedding(n_teams+1, 9, input_length=2))\n",
        "model.add(LSTM(units=128, recurrent_dropout=0.2))\n",
        "model.add(Dropout(rate=0.2))\n",
        "model.add(Dense(units=1))\n",
        "model.compile(optimizer='adam', loss='mean_squared_error')"
      ],
      "execution_count": 15,
      "outputs": []
    },
    {
      "cell_type": "code",
      "metadata": {
        "id": "sdts7_1LXsTc",
        "colab_type": "code",
        "colab": {}
      },
      "source": [
        "history = model.fit(X_train, y_train,\n",
        "                    \n",
        "                  epochs = 25,\n",
        "                  batch_size=9,\n",
        "                  validation_split=0.1,\n",
        "                  shuffle=False)"
      ],
      "execution_count": null,
      "outputs": []
    },
    {
      "cell_type": "code",
      "metadata": {
        "id": "VbXzSmrPKZs8",
        "colab_type": "code",
        "colab": {}
      },
      "source": [
        "plt.plot(history.history['loss'], label='train')\n",
        "plt.plot(history.history['val_loss'], label='test')\n",
        "plt.legend();"
      ],
      "execution_count": null,
      "outputs": []
    },
    {
      "cell_type": "markdown",
      "metadata": {
        "id": "_Z8UIq1nXtG9",
        "colab_type": "text"
      },
      "source": [
        "## Putting it all together"
      ]
    },
    {
      "cell_type": "code",
      "metadata": {
        "colab_type": "code",
        "id": "XNP_xLmMiiFR",
        "colab": {}
      },
      "source": [
        "def create_dataset(X, y):\n",
        "    Xs, ys = [], []\n",
        "    for i in range(len(X)):\n",
        "        v = X.iloc[i].values\n",
        "        Xs.append(v)\n",
        "        ys.append(y.iloc[i])     \n",
        "    return np.array(Xs), np.array(ys)"
      ],
      "execution_count": 22,
      "outputs": []
    },
    {
      "cell_type": "code",
      "metadata": {
        "id": "UKPzHR40Gt3_",
        "colab_type": "code",
        "colab": {}
      },
      "source": [
        "def create_train_test_data(data, round):\n",
        "  train_set = data[data['Round'] < round]\n",
        "  test_set = data[data['Round'] == round]\n",
        "  X_train, y_train = create_dataset(train_set[['Home_Id', 'Away_Id']], train_set.Score)\n",
        "  X_test, y_test = create_dataset(test_set[['Home_Id', 'Away_Id']], test_set.Score)\n",
        "  return {'train_set':train_set,'test_set':test_set,'X_train':X_train, 'y_train': y_train, 'X_test':X_test, 'y_test': y_test}"
      ],
      "execution_count": 23,
      "outputs": []
    },
    {
      "cell_type": "code",
      "metadata": {
        "id": "BjU3f0HDInHU",
        "colab_type": "code",
        "colab": {}
      },
      "source": [
        "def create_model (n_teams, lstm_units=128, optimizer='adam', loss='mean_squared_error', dropout_rate=0.2, input_length=2, batchsize=9):\n",
        "  model = Sequential()\n",
        "  model.add(Embedding(n_teams+1, batchsize, input_length=input_length))\n",
        "  model.add(LSTM(units=lstm_units, recurrent_dropout=dropout_rate))\n",
        "  model.add(Dropout(rate=dropout_rate))\n",
        "  model.add(Dense(units=1))\n",
        "  model.compile(optimizer=optimizer, loss=loss)\n",
        "  return model"
      ],
      "execution_count": 24,
      "outputs": []
    },
    {
      "cell_type": "code",
      "metadata": {
        "id": "qIgfd6qSJ9mU",
        "colab_type": "code",
        "colab": {}
      },
      "source": [
        "def train_model(model, X, y, epochs=20, batch_size=9):\n",
        "  history = model.fit(X, y,\n",
        "                    epochs = epochs,\n",
        "                    batch_size=batch_size,\n",
        "                    shuffle=False)\n",
        "  return history"
      ],
      "execution_count": 25,
      "outputs": []
    },
    {
      "cell_type": "code",
      "metadata": {
        "id": "7uoSRksrKq1T",
        "colab_type": "code",
        "colab": {}
      },
      "source": [
        "def predict_results(model, X):\n",
        "  y_pred = model.predict(X)\n",
        "  return y_pred"
      ],
      "execution_count": 26,
      "outputs": []
    },
    {
      "cell_type": "code",
      "metadata": {
        "id": "mEl3ZL_OK4ic",
        "colab_type": "code",
        "colab": {}
      },
      "source": [
        "def retransform_y_data(y_test, y_pred):\n",
        "  y_actual = score_transformer.inverse_transform(y_test.reshape(1, -1)).reshape(-1,1)\n",
        "  y_pred = score_transformer.inverse_transform(y_pred).reshape(-1,1)\n",
        "  return {'y_actual':y_actual, 'y_pred':y_pred}"
      ],
      "execution_count": 27,
      "outputs": []
    },
    {
      "cell_type": "code",
      "metadata": {
        "id": "X-b8JoLxM1p9",
        "colab_type": "code",
        "colab": {}
      },
      "source": [
        "def calculate_bets(prediction_data):\n",
        "  invested, won = list(), list()\n",
        "\n",
        "  for i in range(len(prediction_data)):\n",
        "    if prediction_data.prediction.iloc[i] >= 1.1:\n",
        "      invested.append(1)\n",
        "      if prediction_data.Score.iloc[i] >= 1.0:\n",
        "        won.append(prediction_data.B365H.iloc[i])\n",
        "      else:\n",
        "        won.append(0)\n",
        "    elif prediction_data.prediction.iloc[i] <= -1.1:\n",
        "      invested.append(1)\n",
        "      if prediction_data.Score.iloc[i] <= -1.0:\n",
        "        won.append(prediction_data.B365A.iloc[i])\n",
        "      else:\n",
        "        won.append(0)\n",
        "    else:\n",
        "      invested.append(0)\n",
        "      won.append(0)\n",
        "  return {'invested':invested, 'won':won}"
      ],
      "execution_count": 28,
      "outputs": []
    },
    {
      "cell_type": "code",
      "metadata": {
        "id": "kp_1O-cOLyta",
        "colab_type": "code",
        "colab": {}
      },
      "source": [
        "def create_prediction_dataframe(data:pd.DataFrame, y_actual_pred):\n",
        "  pred_data = data[['Round','Home_Id', 'Away_Id', 'Score', 'B365H',\t'B365D',\t'B365A'\t]]\n",
        "  pred_data['Score'] = y_actual_pred['y_actual']\n",
        "  pred_data['prediction'] = y_actual_pred['y_pred']\n",
        "  bet_data = calculate_bets(pred_data)\n",
        "  pred_data['invested'] = bet_data['invested']\n",
        "  pred_data['won'] = bet_data['won']\n",
        "  return pred_data"
      ],
      "execution_count": 29,
      "outputs": []
    },
    {
      "cell_type": "code",
      "metadata": {
        "id": "CvdX9rlAO9l7",
        "colab_type": "code",
        "colab": {}
      },
      "source": [
        "def beat_the_bookie(data, start_round=6, n_teams=17):\n",
        "  total_rounds_in_season = n_teams * 2\n",
        "  calculated_bets = list()\n",
        "  for i in range(start_round, total_rounds_in_season + 1):\n",
        "    current_data = create_train_test_data(data, i)\n",
        "    model = create_model(n_teams)\n",
        "    history = train_model(model, X=current_data['X_train'], y=current_data['y_train'])\n",
        "    y_pred = predict_results(model, current_data['X_test'])\n",
        "    retransformed_y_data = retransform_y_data(current_data['y_test'], y_pred)\n",
        "    calculated_bets.append(create_prediction_dataframe(current_data['test_set'], retransformed_y_data))\n",
        "  df = pd.concat(calculated_bets)\n",
        "  return df"
      ],
      "execution_count": 30,
      "outputs": []
    },
    {
      "cell_type": "markdown",
      "metadata": {
        "id": "b1vsVzXxbFVn",
        "colab_type": "text"
      },
      "source": [
        "## Let's beat the bookmakers and take a evaluate our performance"
      ]
    },
    {
      "cell_type": "code",
      "metadata": {
        "id": "yNUC_FezQhDC",
        "colab_type": "code",
        "colab": {}
      },
      "source": [
        "bet_data = beat_the_bookie(used_data)"
      ],
      "execution_count": null,
      "outputs": []
    },
    {
      "cell_type": "code",
      "metadata": {
        "id": "Saf6l5jbTaS4",
        "colab_type": "code",
        "colab": {}
      },
      "source": [
        "bet_data.head(10)"
      ],
      "execution_count": null,
      "outputs": []
    },
    {
      "cell_type": "code",
      "metadata": {
        "id": "-E9RX-2OVkMo",
        "colab_type": "code",
        "colab": {}
      },
      "source": [
        "bet_data['invested'].sum()"
      ],
      "execution_count": null,
      "outputs": []
    },
    {
      "cell_type": "code",
      "metadata": {
        "id": "UJ5X8T8sV1Fv",
        "colab_type": "code",
        "colab": {}
      },
      "source": [
        "bet_data['won'].sum()"
      ],
      "execution_count": null,
      "outputs": []
    },
    {
      "cell_type": "code",
      "metadata": {
        "id": "saa0SyZMYoIA",
        "colab_type": "code",
        "colab": {}
      },
      "source": [
        "# looking at the games for which we made bets\n",
        "\n",
        "bet_data_only_invested = bet_data[bet_data['invested'] != 0]\n",
        "\n",
        "pd.options.display.max_rows = 999\n",
        "bet_data_only_invested"
      ],
      "execution_count": null,
      "outputs": []
    },
    {
      "cell_type": "markdown",
      "metadata": {
        "id": "JZHIKj80sNH2",
        "colab_type": "text"
      },
      "source": [
        "## Presenting the Results"
      ]
    },
    {
      "cell_type": "code",
      "metadata": {
        "id": "U7bIHVBnYIGq",
        "colab_type": "code",
        "colab": {}
      },
      "source": [
        "import seaborn as sns\n",
        "from pylab import rcParams\n",
        "import matplotlib\n",
        "import matplotlib.pyplot as plt\n",
        "from matplotlib import rc\n",
        "from  matplotlib.ticker import FuncFormatter\n",
        "\n",
        "%matplotlib inline\n",
        "%config InlineBackend.figure_format='retina'\n",
        "\n",
        "sns.set(style='whitegrid', palette='muted', font_scale=1.5)\n",
        "\n",
        "rcParams['figure.figsize'] = 22, 10"
      ],
      "execution_count": 36,
      "outputs": []
    },
    {
      "cell_type": "code",
      "metadata": {
        "id": "E0uyeeNex2T4",
        "colab_type": "code",
        "colab": {}
      },
      "source": [
        "df = bet_data[['Round', 'invested', 'won']]"
      ],
      "execution_count": 37,
      "outputs": []
    },
    {
      "cell_type": "code",
      "metadata": {
        "id": "pwO6yKiRxvx2",
        "colab_type": "code",
        "colab": {}
      },
      "source": [
        "df_winnings = df[['Round', 'invested', 'won']]\n",
        "df_winnings_by_round = df_winnings.groupby('Round').sum()\n",
        "df_winnings_by_round = df_winnings_by_round.reset_index()\n",
        "\n",
        "net_winnings = list()\n",
        "current_winnings = 0\n",
        "for row in range(len(df_winnings_by_round)):\n",
        "  current_winnings += (df_winnings_by_round.won.iloc[row] - df_winnings_by_round.invested.iloc[row])\n",
        "  net_winnings.append(current_winnings)\n",
        "\n",
        "df_winnings_by_round['net_winnings'] = net_winnings"
      ],
      "execution_count": 38,
      "outputs": []
    },
    {
      "cell_type": "code",
      "metadata": {
        "id": "9ibXGd5Ocoip",
        "colab_type": "code",
        "colab": {}
      },
      "source": [
        "df = pd.melt(df, id_vars=['Round']).sort_values(['variable', 'value'])\n",
        "\n",
        "df_by_round = df.groupby(['Round', 'variable']).sum()\n",
        "df_by_round = df_by_round.reset_index()"
      ],
      "execution_count": 39,
      "outputs": []
    },
    {
      "cell_type": "code",
      "metadata": {
        "id": "x0lq6shbb7tZ",
        "colab_type": "code",
        "colab": {}
      },
      "source": [
        "fig, (ax1, ax2) = plt.subplots(nrows=2)\n",
        "fig.set_size_inches(22,16)\n",
        "\n",
        "sns.barplot(x='Round', y='value', hue='variable', data =df_by_round, ax=ax1)\n",
        "ax1.set_title('Units invested and won per Round')\n",
        "ax1.set_ylabel('Bet Units')\n",
        "\n",
        "sns.lineplot(x='Round', y='net_winnings', data =df_winnings_by_round, ax=ax2)\n",
        "ax2.set_title('Net Winnings')\n",
        "ax2.set_ylabel('Bet Units')\n",
        "\n",
        "plt.subplots_adjust(hspace=0.5)"
      ],
      "execution_count": null,
      "outputs": []
    }
  ]
}